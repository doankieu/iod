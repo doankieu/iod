{
 "cells": [
  {
   "cell_type": "markdown",
   "metadata": {
    "id": "7dsAxdi0XF5U"
   },
   "source": [
    "<div>\n",
    "<img src=https://www.institutedata.com/wp-content/uploads/2019/10/iod_h_tp_primary_c.svg width=\"300\">\n",
    "</div>"
   ]
  },
  {
   "cell_type": "markdown",
   "metadata": {
    "id": "UWARFzbRXF5b"
   },
   "source": [
    "## Lab 4.2.1: Feature Selection"
   ]
  },
  {
   "cell_type": "markdown",
   "metadata": {
    "id": "gpNkmk2YXF5d"
   },
   "source": [
    "### 1. Load & Explore Data"
   ]
  },
  {
   "cell_type": "code",
   "execution_count": 1,
   "metadata": {
    "id": "J0BM6vo-XF5f"
   },
   "outputs": [],
   "source": [
    "import pandas as pd\n",
    "import numpy as np\n",
    "import matplotlib.pyplot as plt\n",
    "import seaborn as sns\n",
    "\n",
    "%matplotlib inline"
   ]
  },
  {
   "cell_type": "markdown",
   "metadata": {
    "id": "FACR8kagXF5p"
   },
   "source": [
    "#### 1.1 Load Data"
   ]
  },
  {
   "cell_type": "code",
   "execution_count": 2,
   "metadata": {
    "id": "SmCNaDCfXF5q"
   },
   "outputs": [],
   "source": [
    "# Read CSV\n",
    "wine_csv = 'winequality_merged.csv'"
   ]
  },
  {
   "cell_type": "markdown",
   "metadata": {
    "id": "scteyINnXF5s"
   },
   "source": [
    "#### 1.2 Explore Data (Exploratory Data Analysis)"
   ]
  },
  {
   "cell_type": "code",
   "execution_count": 5,
   "metadata": {
    "id": "u-Q3RTtuXF5t"
   },
   "outputs": [
    {
     "data": {
      "text/html": [
       "<div>\n",
       "<style scoped>\n",
       "    .dataframe tbody tr th:only-of-type {\n",
       "        vertical-align: middle;\n",
       "    }\n",
       "\n",
       "    .dataframe tbody tr th {\n",
       "        vertical-align: top;\n",
       "    }\n",
       "\n",
       "    .dataframe thead th {\n",
       "        text-align: right;\n",
       "    }\n",
       "</style>\n",
       "<table border=\"1\" class=\"dataframe\">\n",
       "  <thead>\n",
       "    <tr style=\"text-align: right;\">\n",
       "      <th></th>\n",
       "      <th>fixed acidity</th>\n",
       "      <th>volatile acidity</th>\n",
       "      <th>citric acid</th>\n",
       "      <th>residual sugar</th>\n",
       "      <th>chlorides</th>\n",
       "      <th>free sulfur dioxide</th>\n",
       "      <th>total sulfur dioxide</th>\n",
       "      <th>density</th>\n",
       "      <th>pH</th>\n",
       "      <th>sulphates</th>\n",
       "      <th>alcohol</th>\n",
       "      <th>quality</th>\n",
       "      <th>red_wine</th>\n",
       "    </tr>\n",
       "  </thead>\n",
       "  <tbody>\n",
       "    <tr>\n",
       "      <th>0</th>\n",
       "      <td>7.4</td>\n",
       "      <td>0.70</td>\n",
       "      <td>0.00</td>\n",
       "      <td>1.9</td>\n",
       "      <td>0.076</td>\n",
       "      <td>11.0</td>\n",
       "      <td>34.0</td>\n",
       "      <td>0.9978</td>\n",
       "      <td>3.51</td>\n",
       "      <td>0.56</td>\n",
       "      <td>9.4</td>\n",
       "      <td>5</td>\n",
       "      <td>1</td>\n",
       "    </tr>\n",
       "    <tr>\n",
       "      <th>1</th>\n",
       "      <td>7.8</td>\n",
       "      <td>0.88</td>\n",
       "      <td>0.00</td>\n",
       "      <td>2.6</td>\n",
       "      <td>0.098</td>\n",
       "      <td>25.0</td>\n",
       "      <td>67.0</td>\n",
       "      <td>0.9968</td>\n",
       "      <td>3.20</td>\n",
       "      <td>0.68</td>\n",
       "      <td>9.8</td>\n",
       "      <td>5</td>\n",
       "      <td>1</td>\n",
       "    </tr>\n",
       "    <tr>\n",
       "      <th>2</th>\n",
       "      <td>7.8</td>\n",
       "      <td>0.76</td>\n",
       "      <td>0.04</td>\n",
       "      <td>2.3</td>\n",
       "      <td>0.092</td>\n",
       "      <td>15.0</td>\n",
       "      <td>54.0</td>\n",
       "      <td>0.9970</td>\n",
       "      <td>3.26</td>\n",
       "      <td>0.65</td>\n",
       "      <td>9.8</td>\n",
       "      <td>5</td>\n",
       "      <td>1</td>\n",
       "    </tr>\n",
       "    <tr>\n",
       "      <th>3</th>\n",
       "      <td>11.2</td>\n",
       "      <td>0.28</td>\n",
       "      <td>0.56</td>\n",
       "      <td>1.9</td>\n",
       "      <td>0.075</td>\n",
       "      <td>17.0</td>\n",
       "      <td>60.0</td>\n",
       "      <td>0.9980</td>\n",
       "      <td>3.16</td>\n",
       "      <td>0.58</td>\n",
       "      <td>9.8</td>\n",
       "      <td>6</td>\n",
       "      <td>1</td>\n",
       "    </tr>\n",
       "    <tr>\n",
       "      <th>4</th>\n",
       "      <td>7.4</td>\n",
       "      <td>0.70</td>\n",
       "      <td>0.00</td>\n",
       "      <td>1.9</td>\n",
       "      <td>0.076</td>\n",
       "      <td>11.0</td>\n",
       "      <td>34.0</td>\n",
       "      <td>0.9978</td>\n",
       "      <td>3.51</td>\n",
       "      <td>0.56</td>\n",
       "      <td>9.4</td>\n",
       "      <td>5</td>\n",
       "      <td>1</td>\n",
       "    </tr>\n",
       "  </tbody>\n",
       "</table>\n",
       "</div>"
      ],
      "text/plain": [
       "   fixed acidity  volatile acidity  citric acid  residual sugar  chlorides  \\\n",
       "0            7.4              0.70         0.00             1.9      0.076   \n",
       "1            7.8              0.88         0.00             2.6      0.098   \n",
       "2            7.8              0.76         0.04             2.3      0.092   \n",
       "3           11.2              0.28         0.56             1.9      0.075   \n",
       "4            7.4              0.70         0.00             1.9      0.076   \n",
       "\n",
       "   free sulfur dioxide  total sulfur dioxide  density    pH  sulphates  \\\n",
       "0                 11.0                  34.0   0.9978  3.51       0.56   \n",
       "1                 25.0                  67.0   0.9968  3.20       0.68   \n",
       "2                 15.0                  54.0   0.9970  3.26       0.65   \n",
       "3                 17.0                  60.0   0.9980  3.16       0.58   \n",
       "4                 11.0                  34.0   0.9978  3.51       0.56   \n",
       "\n",
       "   alcohol  quality  red_wine  \n",
       "0      9.4        5         1  \n",
       "1      9.8        5         1  \n",
       "2      9.8        5         1  \n",
       "3      9.8        6         1  \n",
       "4      9.4        5         1  "
      ]
     },
     "execution_count": 5,
     "metadata": {},
     "output_type": "execute_result"
    }
   ],
   "source": [
    "# ANSWER\n",
    "wine = pd.read_csv(wine_csv)\n",
    "wine.head()"
   ]
  },
  {
   "cell_type": "code",
   "execution_count": 7,
   "metadata": {},
   "outputs": [
    {
     "data": {
      "text/html": [
       "<div>\n",
       "<style scoped>\n",
       "    .dataframe tbody tr th:only-of-type {\n",
       "        vertical-align: middle;\n",
       "    }\n",
       "\n",
       "    .dataframe tbody tr th {\n",
       "        vertical-align: top;\n",
       "    }\n",
       "\n",
       "    .dataframe thead th {\n",
       "        text-align: right;\n",
       "    }\n",
       "</style>\n",
       "<table border=\"1\" class=\"dataframe\">\n",
       "  <thead>\n",
       "    <tr style=\"text-align: right;\">\n",
       "      <th></th>\n",
       "      <th>count</th>\n",
       "      <th>mean</th>\n",
       "      <th>std</th>\n",
       "      <th>min</th>\n",
       "      <th>25%</th>\n",
       "      <th>50%</th>\n",
       "      <th>75%</th>\n",
       "      <th>max</th>\n",
       "    </tr>\n",
       "  </thead>\n",
       "  <tbody>\n",
       "    <tr>\n",
       "      <th>fixed acidity</th>\n",
       "      <td>6497.0</td>\n",
       "      <td>7.215307</td>\n",
       "      <td>1.296434</td>\n",
       "      <td>3.80000</td>\n",
       "      <td>6.40000</td>\n",
       "      <td>7.00000</td>\n",
       "      <td>7.70000</td>\n",
       "      <td>15.90000</td>\n",
       "    </tr>\n",
       "    <tr>\n",
       "      <th>volatile acidity</th>\n",
       "      <td>6497.0</td>\n",
       "      <td>0.339666</td>\n",
       "      <td>0.164636</td>\n",
       "      <td>0.08000</td>\n",
       "      <td>0.23000</td>\n",
       "      <td>0.29000</td>\n",
       "      <td>0.40000</td>\n",
       "      <td>1.58000</td>\n",
       "    </tr>\n",
       "    <tr>\n",
       "      <th>citric acid</th>\n",
       "      <td>6497.0</td>\n",
       "      <td>0.318633</td>\n",
       "      <td>0.145318</td>\n",
       "      <td>0.00000</td>\n",
       "      <td>0.25000</td>\n",
       "      <td>0.31000</td>\n",
       "      <td>0.39000</td>\n",
       "      <td>1.66000</td>\n",
       "    </tr>\n",
       "    <tr>\n",
       "      <th>residual sugar</th>\n",
       "      <td>6497.0</td>\n",
       "      <td>5.443235</td>\n",
       "      <td>4.757804</td>\n",
       "      <td>0.60000</td>\n",
       "      <td>1.80000</td>\n",
       "      <td>3.00000</td>\n",
       "      <td>8.10000</td>\n",
       "      <td>65.80000</td>\n",
       "    </tr>\n",
       "    <tr>\n",
       "      <th>chlorides</th>\n",
       "      <td>6497.0</td>\n",
       "      <td>0.056034</td>\n",
       "      <td>0.035034</td>\n",
       "      <td>0.00900</td>\n",
       "      <td>0.03800</td>\n",
       "      <td>0.04700</td>\n",
       "      <td>0.06500</td>\n",
       "      <td>0.61100</td>\n",
       "    </tr>\n",
       "    <tr>\n",
       "      <th>free sulfur dioxide</th>\n",
       "      <td>6497.0</td>\n",
       "      <td>30.525319</td>\n",
       "      <td>17.749400</td>\n",
       "      <td>1.00000</td>\n",
       "      <td>17.00000</td>\n",
       "      <td>29.00000</td>\n",
       "      <td>41.00000</td>\n",
       "      <td>289.00000</td>\n",
       "    </tr>\n",
       "    <tr>\n",
       "      <th>total sulfur dioxide</th>\n",
       "      <td>6497.0</td>\n",
       "      <td>115.744574</td>\n",
       "      <td>56.521855</td>\n",
       "      <td>6.00000</td>\n",
       "      <td>77.00000</td>\n",
       "      <td>118.00000</td>\n",
       "      <td>156.00000</td>\n",
       "      <td>440.00000</td>\n",
       "    </tr>\n",
       "    <tr>\n",
       "      <th>density</th>\n",
       "      <td>6497.0</td>\n",
       "      <td>0.994697</td>\n",
       "      <td>0.002999</td>\n",
       "      <td>0.98711</td>\n",
       "      <td>0.99234</td>\n",
       "      <td>0.99489</td>\n",
       "      <td>0.99699</td>\n",
       "      <td>1.03898</td>\n",
       "    </tr>\n",
       "    <tr>\n",
       "      <th>pH</th>\n",
       "      <td>6497.0</td>\n",
       "      <td>3.218501</td>\n",
       "      <td>0.160787</td>\n",
       "      <td>2.72000</td>\n",
       "      <td>3.11000</td>\n",
       "      <td>3.21000</td>\n",
       "      <td>3.32000</td>\n",
       "      <td>4.01000</td>\n",
       "    </tr>\n",
       "    <tr>\n",
       "      <th>sulphates</th>\n",
       "      <td>6497.0</td>\n",
       "      <td>0.531268</td>\n",
       "      <td>0.148806</td>\n",
       "      <td>0.22000</td>\n",
       "      <td>0.43000</td>\n",
       "      <td>0.51000</td>\n",
       "      <td>0.60000</td>\n",
       "      <td>2.00000</td>\n",
       "    </tr>\n",
       "    <tr>\n",
       "      <th>alcohol</th>\n",
       "      <td>6497.0</td>\n",
       "      <td>10.491801</td>\n",
       "      <td>1.192712</td>\n",
       "      <td>8.00000</td>\n",
       "      <td>9.50000</td>\n",
       "      <td>10.30000</td>\n",
       "      <td>11.30000</td>\n",
       "      <td>14.90000</td>\n",
       "    </tr>\n",
       "    <tr>\n",
       "      <th>quality</th>\n",
       "      <td>6497.0</td>\n",
       "      <td>5.818378</td>\n",
       "      <td>0.873255</td>\n",
       "      <td>3.00000</td>\n",
       "      <td>5.00000</td>\n",
       "      <td>6.00000</td>\n",
       "      <td>6.00000</td>\n",
       "      <td>9.00000</td>\n",
       "    </tr>\n",
       "    <tr>\n",
       "      <th>red_wine</th>\n",
       "      <td>6497.0</td>\n",
       "      <td>0.246114</td>\n",
       "      <td>0.430779</td>\n",
       "      <td>0.00000</td>\n",
       "      <td>0.00000</td>\n",
       "      <td>0.00000</td>\n",
       "      <td>0.00000</td>\n",
       "      <td>1.00000</td>\n",
       "    </tr>\n",
       "  </tbody>\n",
       "</table>\n",
       "</div>"
      ],
      "text/plain": [
       "                       count        mean        std      min       25%  \\\n",
       "fixed acidity         6497.0    7.215307   1.296434  3.80000   6.40000   \n",
       "volatile acidity      6497.0    0.339666   0.164636  0.08000   0.23000   \n",
       "citric acid           6497.0    0.318633   0.145318  0.00000   0.25000   \n",
       "residual sugar        6497.0    5.443235   4.757804  0.60000   1.80000   \n",
       "chlorides             6497.0    0.056034   0.035034  0.00900   0.03800   \n",
       "free sulfur dioxide   6497.0   30.525319  17.749400  1.00000  17.00000   \n",
       "total sulfur dioxide  6497.0  115.744574  56.521855  6.00000  77.00000   \n",
       "density               6497.0    0.994697   0.002999  0.98711   0.99234   \n",
       "pH                    6497.0    3.218501   0.160787  2.72000   3.11000   \n",
       "sulphates             6497.0    0.531268   0.148806  0.22000   0.43000   \n",
       "alcohol               6497.0   10.491801   1.192712  8.00000   9.50000   \n",
       "quality               6497.0    5.818378   0.873255  3.00000   5.00000   \n",
       "red_wine              6497.0    0.246114   0.430779  0.00000   0.00000   \n",
       "\n",
       "                            50%        75%        max  \n",
       "fixed acidity           7.00000    7.70000   15.90000  \n",
       "volatile acidity        0.29000    0.40000    1.58000  \n",
       "citric acid             0.31000    0.39000    1.66000  \n",
       "residual sugar          3.00000    8.10000   65.80000  \n",
       "chlorides               0.04700    0.06500    0.61100  \n",
       "free sulfur dioxide    29.00000   41.00000  289.00000  \n",
       "total sulfur dioxide  118.00000  156.00000  440.00000  \n",
       "density                 0.99489    0.99699    1.03898  \n",
       "pH                      3.21000    3.32000    4.01000  \n",
       "sulphates               0.51000    0.60000    2.00000  \n",
       "alcohol                10.30000   11.30000   14.90000  \n",
       "quality                 6.00000    6.00000    9.00000  \n",
       "red_wine                0.00000    0.00000    1.00000  "
      ]
     },
     "execution_count": 7,
     "metadata": {},
     "output_type": "execute_result"
    }
   ],
   "source": [
    "wine.describe().T"
   ]
  },
  {
   "cell_type": "code",
   "execution_count": 8,
   "metadata": {},
   "outputs": [
    {
     "data": {
      "text/html": [
       "<div>\n",
       "<style scoped>\n",
       "    .dataframe tbody tr th:only-of-type {\n",
       "        vertical-align: middle;\n",
       "    }\n",
       "\n",
       "    .dataframe tbody tr th {\n",
       "        vertical-align: top;\n",
       "    }\n",
       "\n",
       "    .dataframe thead th {\n",
       "        text-align: right;\n",
       "    }\n",
       "</style>\n",
       "<table border=\"1\" class=\"dataframe\">\n",
       "  <thead>\n",
       "    <tr style=\"text-align: right;\">\n",
       "      <th></th>\n",
       "      <th>fixed acidity</th>\n",
       "      <th>volatile acidity</th>\n",
       "      <th>citric acid</th>\n",
       "      <th>residual sugar</th>\n",
       "      <th>chlorides</th>\n",
       "      <th>free sulfur dioxide</th>\n",
       "      <th>total sulfur dioxide</th>\n",
       "      <th>density</th>\n",
       "      <th>pH</th>\n",
       "      <th>sulphates</th>\n",
       "      <th>alcohol</th>\n",
       "      <th>quality</th>\n",
       "      <th>red_wine</th>\n",
       "    </tr>\n",
       "  </thead>\n",
       "  <tbody>\n",
       "    <tr>\n",
       "      <th>fixed acidity</th>\n",
       "      <td>1.000000</td>\n",
       "      <td>0.219008</td>\n",
       "      <td>0.324436</td>\n",
       "      <td>-0.111981</td>\n",
       "      <td>0.298195</td>\n",
       "      <td>-0.282735</td>\n",
       "      <td>-0.329054</td>\n",
       "      <td>0.458910</td>\n",
       "      <td>-0.252700</td>\n",
       "      <td>0.299568</td>\n",
       "      <td>-0.095452</td>\n",
       "      <td>-0.076743</td>\n",
       "      <td>0.486740</td>\n",
       "    </tr>\n",
       "    <tr>\n",
       "      <th>volatile acidity</th>\n",
       "      <td>0.219008</td>\n",
       "      <td>1.000000</td>\n",
       "      <td>-0.377981</td>\n",
       "      <td>-0.196011</td>\n",
       "      <td>0.377124</td>\n",
       "      <td>-0.352557</td>\n",
       "      <td>-0.414476</td>\n",
       "      <td>0.271296</td>\n",
       "      <td>0.261454</td>\n",
       "      <td>0.225984</td>\n",
       "      <td>-0.037640</td>\n",
       "      <td>-0.265699</td>\n",
       "      <td>0.653036</td>\n",
       "    </tr>\n",
       "    <tr>\n",
       "      <th>citric acid</th>\n",
       "      <td>0.324436</td>\n",
       "      <td>-0.377981</td>\n",
       "      <td>1.000000</td>\n",
       "      <td>0.142451</td>\n",
       "      <td>0.038998</td>\n",
       "      <td>0.133126</td>\n",
       "      <td>0.195242</td>\n",
       "      <td>0.096154</td>\n",
       "      <td>-0.329808</td>\n",
       "      <td>0.056197</td>\n",
       "      <td>-0.010493</td>\n",
       "      <td>0.085532</td>\n",
       "      <td>-0.187397</td>\n",
       "    </tr>\n",
       "    <tr>\n",
       "      <th>residual sugar</th>\n",
       "      <td>-0.111981</td>\n",
       "      <td>-0.196011</td>\n",
       "      <td>0.142451</td>\n",
       "      <td>1.000000</td>\n",
       "      <td>-0.128940</td>\n",
       "      <td>0.402871</td>\n",
       "      <td>0.495482</td>\n",
       "      <td>0.552517</td>\n",
       "      <td>-0.267320</td>\n",
       "      <td>-0.185927</td>\n",
       "      <td>-0.359415</td>\n",
       "      <td>-0.036980</td>\n",
       "      <td>-0.348821</td>\n",
       "    </tr>\n",
       "    <tr>\n",
       "      <th>chlorides</th>\n",
       "      <td>0.298195</td>\n",
       "      <td>0.377124</td>\n",
       "      <td>0.038998</td>\n",
       "      <td>-0.128940</td>\n",
       "      <td>1.000000</td>\n",
       "      <td>-0.195045</td>\n",
       "      <td>-0.279630</td>\n",
       "      <td>0.362615</td>\n",
       "      <td>0.044708</td>\n",
       "      <td>0.395593</td>\n",
       "      <td>-0.256916</td>\n",
       "      <td>-0.200666</td>\n",
       "      <td>0.512678</td>\n",
       "    </tr>\n",
       "    <tr>\n",
       "      <th>free sulfur dioxide</th>\n",
       "      <td>-0.282735</td>\n",
       "      <td>-0.352557</td>\n",
       "      <td>0.133126</td>\n",
       "      <td>0.402871</td>\n",
       "      <td>-0.195045</td>\n",
       "      <td>1.000000</td>\n",
       "      <td>0.720934</td>\n",
       "      <td>0.025717</td>\n",
       "      <td>-0.145854</td>\n",
       "      <td>-0.188457</td>\n",
       "      <td>-0.179838</td>\n",
       "      <td>0.055463</td>\n",
       "      <td>-0.471644</td>\n",
       "    </tr>\n",
       "    <tr>\n",
       "      <th>total sulfur dioxide</th>\n",
       "      <td>-0.329054</td>\n",
       "      <td>-0.414476</td>\n",
       "      <td>0.195242</td>\n",
       "      <td>0.495482</td>\n",
       "      <td>-0.279630</td>\n",
       "      <td>0.720934</td>\n",
       "      <td>1.000000</td>\n",
       "      <td>0.032395</td>\n",
       "      <td>-0.238413</td>\n",
       "      <td>-0.275727</td>\n",
       "      <td>-0.265740</td>\n",
       "      <td>-0.041385</td>\n",
       "      <td>-0.700357</td>\n",
       "    </tr>\n",
       "    <tr>\n",
       "      <th>density</th>\n",
       "      <td>0.458910</td>\n",
       "      <td>0.271296</td>\n",
       "      <td>0.096154</td>\n",
       "      <td>0.552517</td>\n",
       "      <td>0.362615</td>\n",
       "      <td>0.025717</td>\n",
       "      <td>0.032395</td>\n",
       "      <td>1.000000</td>\n",
       "      <td>0.011686</td>\n",
       "      <td>0.259478</td>\n",
       "      <td>-0.686745</td>\n",
       "      <td>-0.305858</td>\n",
       "      <td>0.390645</td>\n",
       "    </tr>\n",
       "    <tr>\n",
       "      <th>pH</th>\n",
       "      <td>-0.252700</td>\n",
       "      <td>0.261454</td>\n",
       "      <td>-0.329808</td>\n",
       "      <td>-0.267320</td>\n",
       "      <td>0.044708</td>\n",
       "      <td>-0.145854</td>\n",
       "      <td>-0.238413</td>\n",
       "      <td>0.011686</td>\n",
       "      <td>1.000000</td>\n",
       "      <td>0.192123</td>\n",
       "      <td>0.121248</td>\n",
       "      <td>0.019506</td>\n",
       "      <td>0.329129</td>\n",
       "    </tr>\n",
       "    <tr>\n",
       "      <th>sulphates</th>\n",
       "      <td>0.299568</td>\n",
       "      <td>0.225984</td>\n",
       "      <td>0.056197</td>\n",
       "      <td>-0.185927</td>\n",
       "      <td>0.395593</td>\n",
       "      <td>-0.188457</td>\n",
       "      <td>-0.275727</td>\n",
       "      <td>0.259478</td>\n",
       "      <td>0.192123</td>\n",
       "      <td>1.000000</td>\n",
       "      <td>-0.003029</td>\n",
       "      <td>0.038485</td>\n",
       "      <td>0.487218</td>\n",
       "    </tr>\n",
       "    <tr>\n",
       "      <th>alcohol</th>\n",
       "      <td>-0.095452</td>\n",
       "      <td>-0.037640</td>\n",
       "      <td>-0.010493</td>\n",
       "      <td>-0.359415</td>\n",
       "      <td>-0.256916</td>\n",
       "      <td>-0.179838</td>\n",
       "      <td>-0.265740</td>\n",
       "      <td>-0.686745</td>\n",
       "      <td>0.121248</td>\n",
       "      <td>-0.003029</td>\n",
       "      <td>1.000000</td>\n",
       "      <td>0.444319</td>\n",
       "      <td>-0.032970</td>\n",
       "    </tr>\n",
       "    <tr>\n",
       "      <th>quality</th>\n",
       "      <td>-0.076743</td>\n",
       "      <td>-0.265699</td>\n",
       "      <td>0.085532</td>\n",
       "      <td>-0.036980</td>\n",
       "      <td>-0.200666</td>\n",
       "      <td>0.055463</td>\n",
       "      <td>-0.041385</td>\n",
       "      <td>-0.305858</td>\n",
       "      <td>0.019506</td>\n",
       "      <td>0.038485</td>\n",
       "      <td>0.444319</td>\n",
       "      <td>1.000000</td>\n",
       "      <td>-0.119323</td>\n",
       "    </tr>\n",
       "    <tr>\n",
       "      <th>red_wine</th>\n",
       "      <td>0.486740</td>\n",
       "      <td>0.653036</td>\n",
       "      <td>-0.187397</td>\n",
       "      <td>-0.348821</td>\n",
       "      <td>0.512678</td>\n",
       "      <td>-0.471644</td>\n",
       "      <td>-0.700357</td>\n",
       "      <td>0.390645</td>\n",
       "      <td>0.329129</td>\n",
       "      <td>0.487218</td>\n",
       "      <td>-0.032970</td>\n",
       "      <td>-0.119323</td>\n",
       "      <td>1.000000</td>\n",
       "    </tr>\n",
       "  </tbody>\n",
       "</table>\n",
       "</div>"
      ],
      "text/plain": [
       "                      fixed acidity  volatile acidity  citric acid  \\\n",
       "fixed acidity              1.000000          0.219008     0.324436   \n",
       "volatile acidity           0.219008          1.000000    -0.377981   \n",
       "citric acid                0.324436         -0.377981     1.000000   \n",
       "residual sugar            -0.111981         -0.196011     0.142451   \n",
       "chlorides                  0.298195          0.377124     0.038998   \n",
       "free sulfur dioxide       -0.282735         -0.352557     0.133126   \n",
       "total sulfur dioxide      -0.329054         -0.414476     0.195242   \n",
       "density                    0.458910          0.271296     0.096154   \n",
       "pH                        -0.252700          0.261454    -0.329808   \n",
       "sulphates                  0.299568          0.225984     0.056197   \n",
       "alcohol                   -0.095452         -0.037640    -0.010493   \n",
       "quality                   -0.076743         -0.265699     0.085532   \n",
       "red_wine                   0.486740          0.653036    -0.187397   \n",
       "\n",
       "                      residual sugar  chlorides  free sulfur dioxide  \\\n",
       "fixed acidity              -0.111981   0.298195            -0.282735   \n",
       "volatile acidity           -0.196011   0.377124            -0.352557   \n",
       "citric acid                 0.142451   0.038998             0.133126   \n",
       "residual sugar              1.000000  -0.128940             0.402871   \n",
       "chlorides                  -0.128940   1.000000            -0.195045   \n",
       "free sulfur dioxide         0.402871  -0.195045             1.000000   \n",
       "total sulfur dioxide        0.495482  -0.279630             0.720934   \n",
       "density                     0.552517   0.362615             0.025717   \n",
       "pH                         -0.267320   0.044708            -0.145854   \n",
       "sulphates                  -0.185927   0.395593            -0.188457   \n",
       "alcohol                    -0.359415  -0.256916            -0.179838   \n",
       "quality                    -0.036980  -0.200666             0.055463   \n",
       "red_wine                   -0.348821   0.512678            -0.471644   \n",
       "\n",
       "                      total sulfur dioxide   density        pH  sulphates  \\\n",
       "fixed acidity                    -0.329054  0.458910 -0.252700   0.299568   \n",
       "volatile acidity                 -0.414476  0.271296  0.261454   0.225984   \n",
       "citric acid                       0.195242  0.096154 -0.329808   0.056197   \n",
       "residual sugar                    0.495482  0.552517 -0.267320  -0.185927   \n",
       "chlorides                        -0.279630  0.362615  0.044708   0.395593   \n",
       "free sulfur dioxide               0.720934  0.025717 -0.145854  -0.188457   \n",
       "total sulfur dioxide              1.000000  0.032395 -0.238413  -0.275727   \n",
       "density                           0.032395  1.000000  0.011686   0.259478   \n",
       "pH                               -0.238413  0.011686  1.000000   0.192123   \n",
       "sulphates                        -0.275727  0.259478  0.192123   1.000000   \n",
       "alcohol                          -0.265740 -0.686745  0.121248  -0.003029   \n",
       "quality                          -0.041385 -0.305858  0.019506   0.038485   \n",
       "red_wine                         -0.700357  0.390645  0.329129   0.487218   \n",
       "\n",
       "                       alcohol   quality  red_wine  \n",
       "fixed acidity        -0.095452 -0.076743  0.486740  \n",
       "volatile acidity     -0.037640 -0.265699  0.653036  \n",
       "citric acid          -0.010493  0.085532 -0.187397  \n",
       "residual sugar       -0.359415 -0.036980 -0.348821  \n",
       "chlorides            -0.256916 -0.200666  0.512678  \n",
       "free sulfur dioxide  -0.179838  0.055463 -0.471644  \n",
       "total sulfur dioxide -0.265740 -0.041385 -0.700357  \n",
       "density              -0.686745 -0.305858  0.390645  \n",
       "pH                    0.121248  0.019506  0.329129  \n",
       "sulphates            -0.003029  0.038485  0.487218  \n",
       "alcohol               1.000000  0.444319 -0.032970  \n",
       "quality               0.444319  1.000000 -0.119323  \n",
       "red_wine             -0.032970 -0.119323  1.000000  "
      ]
     },
     "execution_count": 8,
     "metadata": {},
     "output_type": "execute_result"
    }
   ],
   "source": [
    "wine.corr()"
   ]
  },
  {
   "cell_type": "code",
   "execution_count": 11,
   "metadata": {},
   "outputs": [
    {
     "data": {
      "text/html": [
       "<div>\n",
       "<style scoped>\n",
       "    .dataframe tbody tr th:only-of-type {\n",
       "        vertical-align: middle;\n",
       "    }\n",
       "\n",
       "    .dataframe tbody tr th {\n",
       "        vertical-align: top;\n",
       "    }\n",
       "\n",
       "    .dataframe thead th {\n",
       "        text-align: right;\n",
       "    }\n",
       "</style>\n",
       "<table border=\"1\" class=\"dataframe\">\n",
       "  <thead>\n",
       "    <tr style=\"text-align: right;\">\n",
       "      <th></th>\n",
       "      <th>fixed acidity</th>\n",
       "      <th>volatile acidity</th>\n",
       "      <th>citric acid</th>\n",
       "      <th>residual sugar</th>\n",
       "      <th>chlorides</th>\n",
       "      <th>free sulfur dioxide</th>\n",
       "      <th>total sulfur dioxide</th>\n",
       "      <th>density</th>\n",
       "      <th>pH</th>\n",
       "      <th>sulphates</th>\n",
       "      <th>alcohol</th>\n",
       "      <th>quality</th>\n",
       "      <th>red_wine</th>\n",
       "    </tr>\n",
       "  </thead>\n",
       "  <tbody>\n",
       "    <tr>\n",
       "      <th>2373</th>\n",
       "      <td>9.1</td>\n",
       "      <td>0.27</td>\n",
       "      <td>0.45</td>\n",
       "      <td>10.6</td>\n",
       "      <td>0.035</td>\n",
       "      <td>28.0</td>\n",
       "      <td>124.0</td>\n",
       "      <td>0.99700</td>\n",
       "      <td>3.20</td>\n",
       "      <td>0.46</td>\n",
       "      <td>10.4</td>\n",
       "      <td>9</td>\n",
       "      <td>0</td>\n",
       "    </tr>\n",
       "    <tr>\n",
       "      <th>2419</th>\n",
       "      <td>6.6</td>\n",
       "      <td>0.36</td>\n",
       "      <td>0.29</td>\n",
       "      <td>1.6</td>\n",
       "      <td>0.021</td>\n",
       "      <td>24.0</td>\n",
       "      <td>85.0</td>\n",
       "      <td>0.98965</td>\n",
       "      <td>3.41</td>\n",
       "      <td>0.61</td>\n",
       "      <td>12.4</td>\n",
       "      <td>9</td>\n",
       "      <td>0</td>\n",
       "    </tr>\n",
       "    <tr>\n",
       "      <th>2426</th>\n",
       "      <td>7.4</td>\n",
       "      <td>0.24</td>\n",
       "      <td>0.36</td>\n",
       "      <td>2.0</td>\n",
       "      <td>0.031</td>\n",
       "      <td>27.0</td>\n",
       "      <td>139.0</td>\n",
       "      <td>0.99055</td>\n",
       "      <td>3.28</td>\n",
       "      <td>0.48</td>\n",
       "      <td>12.5</td>\n",
       "      <td>9</td>\n",
       "      <td>0</td>\n",
       "    </tr>\n",
       "    <tr>\n",
       "      <th>2475</th>\n",
       "      <td>6.9</td>\n",
       "      <td>0.36</td>\n",
       "      <td>0.34</td>\n",
       "      <td>4.2</td>\n",
       "      <td>0.018</td>\n",
       "      <td>57.0</td>\n",
       "      <td>119.0</td>\n",
       "      <td>0.98980</td>\n",
       "      <td>3.28</td>\n",
       "      <td>0.36</td>\n",
       "      <td>12.7</td>\n",
       "      <td>9</td>\n",
       "      <td>0</td>\n",
       "    </tr>\n",
       "    <tr>\n",
       "      <th>3204</th>\n",
       "      <td>7.1</td>\n",
       "      <td>0.26</td>\n",
       "      <td>0.49</td>\n",
       "      <td>2.2</td>\n",
       "      <td>0.032</td>\n",
       "      <td>31.0</td>\n",
       "      <td>113.0</td>\n",
       "      <td>0.99030</td>\n",
       "      <td>3.37</td>\n",
       "      <td>0.42</td>\n",
       "      <td>12.9</td>\n",
       "      <td>9</td>\n",
       "      <td>0</td>\n",
       "    </tr>\n",
       "  </tbody>\n",
       "</table>\n",
       "</div>"
      ],
      "text/plain": [
       "      fixed acidity  volatile acidity  citric acid  residual sugar  chlorides  \\\n",
       "2373            9.1              0.27         0.45            10.6      0.035   \n",
       "2419            6.6              0.36         0.29             1.6      0.021   \n",
       "2426            7.4              0.24         0.36             2.0      0.031   \n",
       "2475            6.9              0.36         0.34             4.2      0.018   \n",
       "3204            7.1              0.26         0.49             2.2      0.032   \n",
       "\n",
       "      free sulfur dioxide  total sulfur dioxide  density    pH  sulphates  \\\n",
       "2373                 28.0                 124.0  0.99700  3.20       0.46   \n",
       "2419                 24.0                  85.0  0.98965  3.41       0.61   \n",
       "2426                 27.0                 139.0  0.99055  3.28       0.48   \n",
       "2475                 57.0                 119.0  0.98980  3.28       0.36   \n",
       "3204                 31.0                 113.0  0.99030  3.37       0.42   \n",
       "\n",
       "      alcohol  quality  red_wine  \n",
       "2373     10.4        9         0  \n",
       "2419     12.4        9         0  \n",
       "2426     12.5        9         0  \n",
       "2475     12.7        9         0  \n",
       "3204     12.9        9         0  "
      ]
     },
     "execution_count": 11,
     "metadata": {},
     "output_type": "execute_result"
    }
   ],
   "source": [
    "wine[wine.quality ==9]"
   ]
  },
  {
   "cell_type": "code",
   "execution_count": 14,
   "metadata": {},
   "outputs": [
    {
     "name": "stderr",
     "output_type": "stream",
     "text": [
      "/Users/linhvien/opt/anaconda3/envs/iod/lib/python3.9/site-packages/seaborn/_decorators.py:36: FutureWarning: Pass the following variables as keyword args: x, y. From version 0.12, the only valid positional argument will be `data`, and passing other arguments without an explicit keyword will result in an error or misinterpretation.\n",
      "  warnings.warn(\n"
     ]
    },
    {
     "data": {
      "text/plain": [
       "<AxesSubplot:xlabel='quality', ylabel='alcohol'>"
      ]
     },
     "execution_count": 14,
     "metadata": {},
     "output_type": "execute_result"
    },
    {
     "data": {
      "image/png": "[encoded data removed]",
      "text/plain": [
       "<Figure size 432x288 with 1 Axes>"
      ]
     },
     "metadata": {
      "needs_background": "light"
     },
     "output_type": "display_data"
    }
   ],
   "source": [
    "sns.barplot(wine.quality,wine.alcohol)"
   ]
  },
  {
   "cell_type": "code",
   "execution_count": 23,
   "metadata": {},
   "outputs": [
    {
     "name": "stderr",
     "output_type": "stream",
     "text": [
      "/Users/linhvien/opt/anaconda3/envs/iod/lib/python3.9/site-packages/seaborn/_decorators.py:36: FutureWarning: Pass the following variables as keyword args: x, y. From version 0.12, the only valid positional argument will be `data`, and passing other arguments without an explicit keyword will result in an error or misinterpretation.\n",
      "  warnings.warn(\n"
     ]
    },
    {
     "data": {
      "text/plain": [
       "<AxesSubplot:xlabel='quality', ylabel='alcohol'>"
      ]
     },
     "execution_count": 23,
     "metadata": {},
     "output_type": "execute_result"
    },
    {
     "data": {
      "image/png": "[encoded data removed]",
      "text/plain": [
       "<Figure size 432x288 with 1 Axes>"
      ]
     },
     "metadata": {
      "needs_background": "light"
     },
     "output_type": "display_data"
    }
   ],
   "source": [
    "sns.scatterplot(wine.quality,wine.alcohol)"
   ]
  },
  {
   "cell_type": "code",
   "execution_count": 19,
   "metadata": {},
   "outputs": [
    {
     "name": "stderr",
     "output_type": "stream",
     "text": [
      "/Users/linhvien/opt/anaconda3/envs/iod/lib/python3.9/site-packages/seaborn/_decorators.py:36: FutureWarning: Pass the following variables as keyword args: x, y. From version 0.12, the only valid positional argument will be `data`, and passing other arguments without an explicit keyword will result in an error or misinterpretation.\n",
      "  warnings.warn(\n"
     ]
    },
    {
     "data": {
      "image/png": "[encoded data removed]",
      "text/plain": [
       "<Figure size 432x288 with 1 Axes>"
      ]
     },
     "metadata": {
      "needs_background": "light"
     },
     "output_type": "display_data"
    }
   ],
   "source": [
    "sns.barplot(wine.quality,wine.density)\n",
    "plt.ylim(0.98, 1)\n",
    "plt.show()"
   ]
  },
  {
   "cell_type": "code",
   "execution_count": 21,
   "metadata": {},
   "outputs": [
    {
     "data": {
      "text/plain": [
       "<AxesSubplot:xlabel='quality', ylabel='chlorides'>"
      ]
     },
     "execution_count": 21,
     "metadata": {},
     "output_type": "execute_result"
    },
    {
     "data": {
      "image/png": "[encoded data removed]",
      "text/plain": [
       "<Figure size 432x288 with 1 Axes>"
      ]
     },
     "metadata": {
      "needs_background": "light"
     },
     "output_type": "display_data"
    }
   ],
   "source": [
    "sns.scatterplot(x = wine.quality, y = wine.chlorides)"
   ]
  },
  {
   "cell_type": "code",
   "execution_count": 22,
   "metadata": {},
   "outputs": [
    {
     "data": {
      "text/plain": [
       "<AxesSubplot:xlabel='quality', ylabel='Count'>"
      ]
     },
     "execution_count": 22,
     "metadata": {},
     "output_type": "execute_result"
    },
    {
     "data": {
      "image/png": "[encoded data removed]",
      "text/plain": [
       "<Figure size 432x288 with 1 Axes>"
      ]
     },
     "metadata": {
      "needs_background": "light"
     },
     "output_type": "display_data"
    }
   ],
   "source": [
    "sns.histplot(wine.quality)"
   ]
  },
  {
   "cell_type": "markdown",
   "metadata": {
    "id": "_xtHG5jGXF5v"
   },
   "source": [
    "### 2. Set Target Variable"
   ]
  },
  {
   "cell_type": "markdown",
   "metadata": {
    "id": "qkLJQxkSXF5y"
   },
   "source": [
    "Create a target variable for wine quality."
   ]
  },
  {
   "cell_type": "code",
   "execution_count": 26,
   "metadata": {
    "id": "oaxrah6uXF51"
   },
   "outputs": [],
   "source": [
    "# Target Variable\n",
    "y = wine.quality"
   ]
  },
  {
   "cell_type": "markdown",
   "metadata": {
    "id": "_tBqj2sqXF55"
   },
   "source": [
    "### 3. Set Predictor Variables"
   ]
  },
  {
   "cell_type": "markdown",
   "metadata": {
    "id": "lY5kp1kzXF56"
   },
   "source": [
    "Create a predictor matrix with variables of your choice. State your reason."
   ]
  },
  {
   "cell_type": "code",
   "execution_count": 36,
   "metadata": {
    "id": "E0DcG8vaXF56"
   },
   "outputs": [],
   "source": [
    "# ANSWER\n",
    "# alcohol is the best predictor variables , since it has the highest correlation with quality of wine. \n",
    "X = wine.alcohol.values.reshape(-1,1)"
   ]
  },
  {
   "cell_type": "markdown",
   "metadata": {
    "id": "sUssbQORXF59"
   },
   "source": [
    "### 4. Using Linear Regression Create a Model and Test Score"
   ]
  },
  {
   "cell_type": "code",
   "execution_count": 37,
   "metadata": {
    "id": "YVrOXac4XF59"
   },
   "outputs": [],
   "source": [
    "from sklearn.linear_model import LinearRegression\n",
    "from sklearn.model_selection import train_test_split"
   ]
  },
  {
   "cell_type": "code",
   "execution_count": 122,
   "metadata": {
    "id": "PHMTdm2BXF6A"
   },
   "outputs": [],
   "source": [
    "# Train-Test Split\n",
    "selected_features = [\"alcohol\",\"density\",\"volatile acidity\",\"red_wine\",\"residual sugar\"]\n",
    "X = wine.loc[:,selected_features].values.reshape((-1,len(selected_features)))\n",
    "X_train, X_test, y_train, y_test = train_test_split(X, y, test_size=0.20, random_state=42)"
   ]
  },
  {
   "cell_type": "code",
   "execution_count": 123,
   "metadata": {
    "id": "BgSMd_xaXF6F"
   },
   "outputs": [
    {
     "name": "stdout",
     "output_type": "stream",
     "text": [
      "0.2822264231021494\n",
      "0.26391864291445455\n"
     ]
    }
   ],
   "source": [
    "# Fit the model with the Training data\n",
    "lingres = LinearRegression().fit(X_train, y_train)\n",
    "print(lingres.score(X_train,y_train))\n",
    "# Calculate the score (R^2 for Regression) for Training Data\n",
    "print(lingres.score(X_test,y_test))\n",
    "# Calculate the score (R^2 for Regression) for Testing Data"
   ]
  },
  {
   "cell_type": "code",
   "execution_count": 124,
   "metadata": {},
   "outputs": [
    {
     "name": "stdout",
     "output_type": "stream",
     "text": [
      "0.2822264231021494\n",
      "0.26391864291445455\n",
      "0.7373130208700277\n"
     ]
    }
   ],
   "source": [
    "\n",
    "# Fit the model with the Training data\n",
    "lingres = LinearRegression().fit(X_train, y_train)\n",
    "print(lingres.score(X_train,y_train))\n",
    "# Calculate the score (R^2 for Regression) for Training Data\n",
    "print(lingres.score(X_test,y_test))\n",
    "# Calculate the score (R^2 for Regression) for Testing Data\n",
    "y_predict_test = lingres.predict(X_test)\n",
    "RMSE_test = mean_squared_error(y_test, y_predict_test,squared = False)\n",
    "print(RMSE_test)"
   ]
  },
  {
   "cell_type": "markdown",
   "metadata": {
    "id": "8W5u-0MpliES"
   },
   "source": [
    "### BONUS: Cross validation"
   ]
  },
  {
   "cell_type": "code",
   "execution_count": 125,
   "metadata": {
    "id": "Wwy8wZbWliET"
   },
   "outputs": [],
   "source": [
    "# Cross validation \n",
    "from sklearn.model_selection import KFold \n",
    "from sklearn.metrics import mean_squared_error"
   ]
  },
  {
   "cell_type": "code",
   "execution_count": 126,
   "metadata": {
    "id": "-ppHQl98liEU"
   },
   "outputs": [
    {
     "data": {
      "text/html": [
       "<div>\n",
       "<style scoped>\n",
       "    .dataframe tbody tr th:only-of-type {\n",
       "        vertical-align: middle;\n",
       "    }\n",
       "\n",
       "    .dataframe tbody tr th {\n",
       "        vertical-align: top;\n",
       "    }\n",
       "\n",
       "    .dataframe thead th {\n",
       "        text-align: right;\n",
       "    }\n",
       "</style>\n",
       "<table border=\"1\" class=\"dataframe\">\n",
       "  <thead>\n",
       "    <tr style=\"text-align: right;\">\n",
       "      <th></th>\n",
       "      <th>R2_train</th>\n",
       "      <th>RMSE_train</th>\n",
       "      <th>R2_test</th>\n",
       "      <th>RMSE_test</th>\n",
       "    </tr>\n",
       "  </thead>\n",
       "  <tbody>\n",
       "    <tr>\n",
       "      <th>0</th>\n",
       "      <td>0.275988</td>\n",
       "      <td>0.744660</td>\n",
       "      <td>0.289946</td>\n",
       "      <td>0.728998</td>\n",
       "    </tr>\n",
       "    <tr>\n",
       "      <th>1</th>\n",
       "      <td>0.282390</td>\n",
       "      <td>0.735678</td>\n",
       "      <td>0.262934</td>\n",
       "      <td>0.765642</td>\n",
       "    </tr>\n",
       "    <tr>\n",
       "      <th>2</th>\n",
       "      <td>0.277980</td>\n",
       "      <td>0.745039</td>\n",
       "      <td>0.281579</td>\n",
       "      <td>0.727655</td>\n",
       "    </tr>\n",
       "    <tr>\n",
       "      <th>3</th>\n",
       "      <td>0.279344</td>\n",
       "      <td>0.735634</td>\n",
       "      <td>0.272557</td>\n",
       "      <td>0.765604</td>\n",
       "    </tr>\n",
       "    <tr>\n",
       "      <th>4</th>\n",
       "      <td>0.280300</td>\n",
       "      <td>0.745510</td>\n",
       "      <td>0.268657</td>\n",
       "      <td>0.726677</td>\n",
       "    </tr>\n",
       "  </tbody>\n",
       "</table>\n",
       "</div>"
      ],
      "text/plain": [
       "   R2_train  RMSE_train   R2_test  RMSE_test\n",
       "0  0.275988    0.744660  0.289946   0.728998\n",
       "1  0.282390    0.735678  0.262934   0.765642\n",
       "2  0.277980    0.745039  0.281579   0.727655\n",
       "3  0.279344    0.735634  0.272557   0.765604\n",
       "4  0.280300    0.745510  0.268657   0.726677"
      ]
     },
     "execution_count": 126,
     "metadata": {},
     "output_type": "execute_result"
    }
   ],
   "source": [
    "# Set up 5-fold cross validation  \n",
    "k_fold = KFold(5, shuffle=True)\n",
    "train_scores = []\n",
    "train_rmse = []\n",
    "test_scores = []\n",
    "test_rmse = []\n",
    "\n",
    "for k, (train, test) in enumerate(k_fold.split(X)):\n",
    "    \n",
    "    # Get training and test sets for X and y\n",
    "    X_train = X[train]\n",
    "    X_test = X[test]\n",
    "    y_train = y[train]\n",
    "    y_test = y[test]\n",
    "    # Fit model with training set\n",
    "    lingres = LinearRegression().fit(X_train, y_train)\n",
    "    # Make predictions with training and test set\n",
    "    y_test_predict = lingres.predict(X_test)\n",
    "    y_train_predict = lingres.predict(X_train)\n",
    "    # Score R2 and RMSE on training and test sets and store in list\n",
    "    RMSE_train = mean_squared_error(y_train, y_train_predict,squared = False)\n",
    "    RMSE_test = mean_squared_error(y_test, y_test_predict,squared = False)\n",
    "    R2_train = lingres.score(X_train,y_train)\n",
    "    R2_test = lingres.score(X_test,y_test)\n",
    "    train_scores.append(R2_train)\n",
    "    train_rmse.append(RMSE_train)\n",
    "    test_scores.append(R2_test)\n",
    "    test_rmse.append(RMSE_test)\n",
    "# Create a metrics_df dataframe to display r2 and rmse scores\n",
    "linear_df = pd.DataFrame({\"R2_train\":train_scores,\"RMSE_train\":train_rmse,\"R2_test\":test_scores,\"RMSE_test\":test_rmse})\n",
    "linear_df"
   ]
  },
  {
   "cell_type": "code",
   "execution_count": 61,
   "metadata": {
    "id": "r3OpDSLhliEV"
   },
   "outputs": [
    {
     "data": {
      "text/html": [
       "<div>\n",
       "<style scoped>\n",
       "    .dataframe tbody tr th:only-of-type {\n",
       "        vertical-align: middle;\n",
       "    }\n",
       "\n",
       "    .dataframe tbody tr th {\n",
       "        vertical-align: top;\n",
       "    }\n",
       "\n",
       "    .dataframe thead th {\n",
       "        text-align: right;\n",
       "    }\n",
       "</style>\n",
       "<table border=\"1\" class=\"dataframe\">\n",
       "  <thead>\n",
       "    <tr style=\"text-align: right;\">\n",
       "      <th></th>\n",
       "      <th>R2_train</th>\n",
       "      <th>MSE_train</th>\n",
       "      <th>R2_test</th>\n",
       "      <th>MSE_test</th>\n",
       "    </tr>\n",
       "  </thead>\n",
       "  <tbody>\n",
       "    <tr>\n",
       "      <th>count</th>\n",
       "      <td>5.000000</td>\n",
       "      <td>5.000000</td>\n",
       "      <td>5.000000</td>\n",
       "      <td>5.000000</td>\n",
       "    </tr>\n",
       "    <tr>\n",
       "      <th>mean</th>\n",
       "      <td>0.197401</td>\n",
       "      <td>0.611893</td>\n",
       "      <td>0.195819</td>\n",
       "      <td>0.612303</td>\n",
       "    </tr>\n",
       "    <tr>\n",
       "      <th>std</th>\n",
       "      <td>0.005196</td>\n",
       "      <td>0.006984</td>\n",
       "      <td>0.020472</td>\n",
       "      <td>0.027972</td>\n",
       "    </tr>\n",
       "    <tr>\n",
       "      <th>min</th>\n",
       "      <td>0.191257</td>\n",
       "      <td>0.599971</td>\n",
       "      <td>0.176528</td>\n",
       "      <td>0.589772</td>\n",
       "    </tr>\n",
       "    <tr>\n",
       "      <th>25%</th>\n",
       "      <td>0.192271</td>\n",
       "      <td>0.611877</td>\n",
       "      <td>0.180989</td>\n",
       "      <td>0.596587</td>\n",
       "    </tr>\n",
       "    <tr>\n",
       "      <th>50%</th>\n",
       "      <td>0.200233</td>\n",
       "      <td>0.614258</td>\n",
       "      <td>0.185867</td>\n",
       "      <td>0.602831</td>\n",
       "    </tr>\n",
       "    <tr>\n",
       "      <th>75%</th>\n",
       "      <td>0.201256</td>\n",
       "      <td>0.615803</td>\n",
       "      <td>0.215213</td>\n",
       "      <td>0.612214</td>\n",
       "    </tr>\n",
       "    <tr>\n",
       "      <th>max</th>\n",
       "      <td>0.201988</td>\n",
       "      <td>0.617558</td>\n",
       "      <td>0.220499</td>\n",
       "      <td>0.660109</td>\n",
       "    </tr>\n",
       "  </tbody>\n",
       "</table>\n",
       "</div>"
      ],
      "text/plain": [
       "       R2_train  MSE_train   R2_test  MSE_test\n",
       "count  5.000000   5.000000  5.000000  5.000000\n",
       "mean   0.197401   0.611893  0.195819  0.612303\n",
       "std    0.005196   0.006984  0.020472  0.027972\n",
       "min    0.191257   0.599971  0.176528  0.589772\n",
       "25%    0.192271   0.611877  0.180989  0.596587\n",
       "50%    0.200233   0.614258  0.185867  0.602831\n",
       "75%    0.201256   0.615803  0.215213  0.612214\n",
       "max    0.201988   0.617558  0.220499  0.660109"
      ]
     },
     "execution_count": 61,
     "metadata": {},
     "output_type": "execute_result"
    }
   ],
   "source": [
    "# Describe the metrics\n",
    "linear_df.describe()"
   ]
  },
  {
   "cell_type": "markdown",
   "metadata": {
    "id": "CAmkNccnXF6H"
   },
   "source": [
    "### 5. Feature Selection\n",
    "\n",
    "What's your score (R^2 for Regression) for Testing Data? \n",
    "\n",
    "How many feature have you selected? Can you improve your score by selecting different features?"
   ]
  },
  {
   "cell_type": "markdown",
   "metadata": {
    "id": "rucGCsZrXF6I"
   },
   "source": [
    "**Please continue with Lab 4.2.2 with the same dataset.**"
   ]
  },
  {
   "cell_type": "markdown",
   "metadata": {
    "id": "0ckG2QAGlsFO"
   },
   "source": [
    "\n",
    "\n",
    "---\n",
    "\n",
    "\n",
    "\n",
    "---\n",
    "\n",
    "\n",
    "\n",
    "> > > > > > > > > © 2022 Institute of Data\n",
    "\n",
    "\n",
    "---\n",
    "\n",
    "\n",
    "\n",
    "---\n",
    "\n",
    "\n",
    "\n"
   ]
  }
 ],
 "metadata": {
  "colab": {
   "collapsed_sections": [],
   "name": "IOD_Lab 4.2.1.ipynb",
   "provenance": []
  },
  "kernelspec": {
   "display_name": "Python 3 (ipykernel)",
   "language": "python",
   "name": "python3"
  },
  "language_info": {
   "codemirror_mode": {
    "name": "ipython",
    "version": 3
   },
   "file_extension": ".py",
   "mimetype": "text/x-python",
   "name": "python",
   "nbconvert_exporter": "python",
   "pygments_lexer": "ipython3",
   "version": "3.9.12"
  }
 },
 "nbformat": 4,
 "nbformat_minor": 1
}
